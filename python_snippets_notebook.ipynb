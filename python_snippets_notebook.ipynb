{
 "cells": [
  {
   "cell_type": "markdown",
   "id": "59fa3275",
   "metadata": {},
   "source": [
    "### Flatten a nested list (1-level)"
   ]
  },
  {
   "cell_type": "code",
   "execution_count": 1,
   "id": "44141ec0",
   "metadata": {},
   "outputs": [
    {
     "name": "stdout",
     "output_type": "stream",
     "text": [
      "[2, [3, 4], 5, 1, 6]\n"
     ]
    }
   ],
   "source": [
    "nested = [1, [2, [3, 4], 5], 6]\n",
    "flattened = [item for sublist in nested if isinstance(sublist, list) for item in sublist] +             [item for item in nested if not isinstance(item, list)]\n",
    "print(flattened)"
   ]
  },
  {
   "cell_type": "markdown",
   "id": "b27e5ce8",
   "metadata": {},
   "source": [
    "### Use map, filter, and lambda"
   ]
  },
  {
   "cell_type": "code",
   "execution_count": 2,
   "id": "f61dac37",
   "metadata": {},
   "outputs": [
    {
     "name": "stdout",
     "output_type": "stream",
     "text": [
      "[4, 16, 36]\n"
     ]
    }
   ],
   "source": [
    "nums = [1, 2, 3, 4, 5, 6]\n",
    "squared_evens = list(map(lambda x: x ** 2, filter(lambda x: x % 2 == 0, nums)))\n",
    "print(squared_evens)"
   ]
  },
  {
   "cell_type": "markdown",
   "id": "6fb0e4fd",
   "metadata": {},
   "source": [
    "### Use reduce on a list of dictionaries"
   ]
  },
  {
   "cell_type": "code",
   "execution_count": 3,
   "id": "26f3a344",
   "metadata": {},
   "outputs": [
    {
     "name": "stdout",
     "output_type": "stream",
     "text": [
      "{'a': 1, 'b': 2, 'c': 3}\n"
     ]
    }
   ],
   "source": [
    "from functools import reduce\n",
    "\n",
    "data = [{'a': 1}, {'b': 2}, {'c': 3}]\n",
    "merged = reduce(lambda acc, d: {**acc, **d}, data, {})\n",
    "print(merged)"
   ]
  },
  {
   "cell_type": "markdown",
   "id": "682f0a99",
   "metadata": {},
   "source": [
    "### Group by a specific key using defaultdict"
   ]
  },
  {
   "cell_type": "code",
   "execution_count": 4,
   "id": "cdd37056",
   "metadata": {},
   "outputs": [
    {
     "name": "stdout",
     "output_type": "stream",
     "text": [
      "{'fruit': ['apple', 'banana', 'mango'], 'vegetable': ['carrot', 'broccoli']}\n"
     ]
    }
   ],
   "source": [
    "from collections import defaultdict\n",
    "\n",
    "data = [{'category': 'fruit', 'item': 'apple'},\n",
    "        {'category': 'fruit', 'item': 'banana'},\n",
    "        {'category': 'vegetable', 'item': 'carrot'},\n",
    "        {'category': 'fruit', 'item': 'mango'},\n",
    "        {'category': 'vegetable', 'item': 'broccoli'}]\n",
    "\n",
    "grouped = defaultdict(list)\n",
    "for d in data:\n",
    "    grouped[d['category']].append(d['item'])\n",
    "print(dict(grouped))"
   ]
  },
  {
   "cell_type": "markdown",
   "id": "5c0268d4",
   "metadata": {},
   "source": [
    "### Group by in Pandas"
   ]
  },
  {
   "cell_type": "code",
   "execution_count": 5,
   "id": "5fb73a8b",
   "metadata": {},
   "outputs": [
    {
     "ename": "ModuleNotFoundError",
     "evalue": "No module named 'pandas'",
     "output_type": "error",
     "traceback": [
      "\u001b[31m---------------------------------------------------------------------------\u001b[39m",
      "\u001b[31mModuleNotFoundError\u001b[39m                       Traceback (most recent call last)",
      "\u001b[36mCell\u001b[39m\u001b[36m \u001b[39m\u001b[32mIn[5]\u001b[39m\u001b[32m, line 1\u001b[39m\n\u001b[32m----> \u001b[39m\u001b[32m1\u001b[39m \u001b[38;5;28;01mimport\u001b[39;00m\u001b[38;5;250m \u001b[39m\u001b[34;01mpandas\u001b[39;00m\u001b[38;5;250m \u001b[39m\u001b[38;5;28;01mas\u001b[39;00m\u001b[38;5;250m \u001b[39m\u001b[34;01mpd\u001b[39;00m\n\u001b[32m      3\u001b[39m df = pd.DataFrame(data)\n\u001b[32m      4\u001b[39m \u001b[38;5;28mprint\u001b[39m(df.groupby(\u001b[33m'\u001b[39m\u001b[33mcategory\u001b[39m\u001b[33m'\u001b[39m)[\u001b[33m'\u001b[39m\u001b[33mitem\u001b[39m\u001b[33m'\u001b[39m].apply(\u001b[38;5;28mlist\u001b[39m).reset_index())\n",
      "\u001b[31mModuleNotFoundError\u001b[39m: No module named 'pandas'"
     ]
    }
   ],
   "source": [
    "import pandas as pd\n",
    "\n",
    "df = pd.DataFrame(data)\n",
    "print(df.groupby('category')['item'].apply(list).reset_index())"
   ]
  },
  {
   "cell_type": "markdown",
   "id": "044b3469",
   "metadata": {},
   "source": [
    "### Sort a list of tuples by second element"
   ]
  },
  {
   "cell_type": "code",
   "execution_count": null,
   "id": "b9ad6feb",
   "metadata": {},
   "outputs": [],
   "source": [
    "data = [(1, 3), (4, 1), (2, 5), (7, 2)]\n",
    "sorted_data = sorted(data, key=lambda x: x[1])\n",
    "print(sorted_data)"
   ]
  },
  {
   "cell_type": "markdown",
   "id": "a9edb8a3",
   "metadata": {},
   "source": [
    "### Fibonacci generator up to N"
   ]
  },
  {
   "cell_type": "code",
   "execution_count": null,
   "id": "f4a9789a",
   "metadata": {},
   "outputs": [],
   "source": [
    "def fibonacci_up_to_n(n):\n",
    "    a, b = 0, 1\n",
    "    while a <= n:\n",
    "        yield a\n",
    "        a, b = b, a + b\n",
    "\n",
    "print(list(fibonacci_up_to_n(50)))"
   ]
  },
  {
   "cell_type": "markdown",
   "id": "f6850657",
   "metadata": {},
   "source": [
    "### Remove duplicates while preserving order"
   ]
  },
  {
   "cell_type": "code",
   "execution_count": null,
   "id": "3abef932",
   "metadata": {},
   "outputs": [],
   "source": [
    "def remove_duplicates_preserve_order(lst):\n",
    "    seen = set()\n",
    "    result = []\n",
    "    for item in lst:\n",
    "        if item not in seen:\n",
    "            seen.add(item)\n",
    "            result.append(item)\n",
    "    return result\n",
    "\n",
    "print(remove_duplicates_preserve_order([1,2,3,1,2,4]))"
   ]
  },
  {
   "cell_type": "markdown",
   "id": "aa0cadc3",
   "metadata": {},
   "source": [
    "### Merge dictionaries and sum values"
   ]
  },
  {
   "cell_type": "code",
   "execution_count": null,
   "id": "eed347fc",
   "metadata": {},
   "outputs": [],
   "source": [
    "a = {'apple': 10, 'banana': 5}\n",
    "b = {'banana': 3, 'orange': 4}\n",
    "\n",
    "merged = a.copy()\n",
    "for k, v in b.items():\n",
    "    merged[k] = merged.get(k, 0) + v\n",
    "print(merged)"
   ]
  },
  {
   "cell_type": "markdown",
   "id": "5b96c634",
   "metadata": {},
   "source": [
    "### Identify anagrams in a list"
   ]
  },
  {
   "cell_type": "code",
   "execution_count": null,
   "id": "a82ea477",
   "metadata": {},
   "outputs": [],
   "source": [
    "from collections import defaultdict\n",
    "\n",
    "words = ['listen', 'silent', 'enlist', 'google', 'gooegl', 'rat', 'tar', 'art']\n",
    "anagram_groups = defaultdict(list)\n",
    "for word in words:\n",
    "    key = ''.join(sorted(word))\n",
    "    anagram_groups[key].append(word)\n",
    "print([group for group in anagram_groups.values() if len(group) > 1])"
   ]
  },
  {
   "cell_type": "markdown",
   "id": "4752e0e9",
   "metadata": {},
   "source": [
    "### Check for palindrome ignoring case and punctuation"
   ]
  },
  {
   "cell_type": "code",
   "execution_count": null,
   "id": "ae0f81b3",
   "metadata": {},
   "outputs": [],
   "source": [
    "import re\n",
    "\n",
    "def is_valid_palindrome(s):\n",
    "    cleaned = re.sub(r'[^a-zA-Z0-9]', '', s).lower()\n",
    "    return cleaned == cleaned[::-1]\n",
    "\n",
    "print(is_valid_palindrome(\"A man, a plan, a canal: Panama\"))"
   ]
  },
  {
   "cell_type": "markdown",
   "id": "6d595bc1",
   "metadata": {},
   "source": [
    "### Use enumerate and zip for parallel iteration"
   ]
  },
  {
   "cell_type": "code",
   "execution_count": null,
   "id": "87be1511",
   "metadata": {},
   "outputs": [],
   "source": [
    "students = [\"Alice\", \"Bob\", \"Charlie\"]\n",
    "scores = [85, 92, 78]\n",
    "\n",
    "for i, (student, score) in enumerate(zip(students, scores), start=1):\n",
    "    print(f\"{i}. {student} scored {score}\")"
   ]
  },
  {
   "cell_type": "markdown",
   "id": "ca74c410",
   "metadata": {},
   "source": [
    "### Decorator to measure execution time"
   ]
  },
  {
   "cell_type": "code",
   "execution_count": null,
   "id": "0a0c2c7e",
   "metadata": {},
   "outputs": [],
   "source": [
    "import time\n",
    "from functools import wraps\n",
    "\n",
    "def timer(func):\n",
    "    @wraps(func)\n",
    "    def wrapper(*args, **kwargs):\n",
    "        start = time.time()\n",
    "        result = func(*args, **kwargs)\n",
    "        end = time.time()\n",
    "        print(f\"Function '{func.__name__}' took {end - start:.4f} seconds\")\n",
    "        return result\n",
    "    return wrapper\n",
    "\n",
    "@timer\n",
    "def slow_function():\n",
    "    time.sleep(1)\n",
    "\n",
    "slow_function()"
   ]
  },
  {
   "cell_type": "markdown",
   "id": "b560aca3",
   "metadata": {},
   "source": [
    "### Custom exception handling for numeric input"
   ]
  },
  {
   "cell_type": "code",
   "execution_count": null,
   "id": "9c297c5a",
   "metadata": {},
   "outputs": [],
   "source": [
    "class InvalidNumericInput(Exception):\n",
    "    pass\n",
    "\n",
    "def process_number(value):\n",
    "    try:\n",
    "        number = float(value)\n",
    "        return number ** 2\n",
    "    except ValueError:\n",
    "        raise InvalidNumericInput(f\"'{value}' is not a valid number\")\n",
    "\n",
    "try:\n",
    "    print(process_number(\"12.5\"))\n",
    "    print(process_number(\"abc\"))\n",
    "except InvalidNumericInput as e:\n",
    "    print(e)"
   ]
  },
  {
   "cell_type": "markdown",
   "id": "8f495a87",
   "metadata": {},
   "source": [
    "### Reverse keys and values in a dictionary"
   ]
  },
  {
   "cell_type": "code",
   "execution_count": null,
   "id": "21f5d456",
   "metadata": {},
   "outputs": [],
   "source": [
    "d = {'a': 1, 'b': 2, 'c': 3}\n",
    "reversed_dict = {v: k for k, v in d.items()}\n",
    "print(reversed_dict)"
   ]
  },
  {
   "cell_type": "markdown",
   "id": "6ba22dbb",
   "metadata": {},
   "source": [
    "### Flatten nested dictionary with recursion"
   ]
  },
  {
   "cell_type": "code",
   "execution_count": null,
   "id": "75c53d3b",
   "metadata": {},
   "outputs": [],
   "source": [
    "def flatten_dict(d, parent_key='', sep='.'):\n",
    "    items = {}\n",
    "    for k, v in d.items():\n",
    "        new_key = f\"{parent_key}{sep}{k}\" if parent_key else k\n",
    "        if isinstance(v, dict):\n",
    "            items.update(flatten_dict(v, new_key, sep=sep))\n",
    "        else:\n",
    "            items[new_key] = v\n",
    "    return items\n",
    "\n",
    "nested = {'a': {'b': {'c': 1}}, 'd': 2}\n",
    "print(flatten_dict(nested))"
   ]
  },
  {
   "cell_type": "markdown",
   "id": "389b243e",
   "metadata": {},
   "source": [
    "### Longest common prefix"
   ]
  },
  {
   "cell_type": "code",
   "execution_count": null,
   "id": "418dbfb6",
   "metadata": {},
   "outputs": [],
   "source": [
    "def longest_common_prefix(strs):\n",
    "    if not strs:\n",
    "        return ''\n",
    "    prefix = strs[0]\n",
    "    for s in strs[1:]:\n",
    "        while not s.startswith(prefix):\n",
    "            prefix = prefix[:-1]\n",
    "            if not prefix:\n",
    "                return ''\n",
    "    return prefix\n",
    "\n",
    "print(longest_common_prefix(['flower', 'flow', 'flight']))"
   ]
  },
  {
   "cell_type": "markdown",
   "id": "ccdb38a4",
   "metadata": {},
   "source": [
    "### Dictionary comprehension: char to ASCII"
   ]
  },
  {
   "cell_type": "code",
   "execution_count": null,
   "id": "cbd8e58e",
   "metadata": {},
   "outputs": [],
   "source": [
    "ascii_map = {char: ord(char) for char in 'abcXYZ123'}\n",
    "print(ascii_map)"
   ]
  },
  {
   "cell_type": "markdown",
   "id": "37bcfa53",
   "metadata": {},
   "source": [
    "### Group values from (key, value) pairs using defaultdict"
   ]
  },
  {
   "cell_type": "code",
   "execution_count": null,
   "id": "b775bace",
   "metadata": {},
   "outputs": [
    {
     "name": "stdout",
     "output_type": "stream",
     "text": [
      "{'fruit': ['apple', 'banana'], 'veg': ['carrot']}\n"
     ]
    }
   ],
   "source": [
    "from collections import defaultdict\n",
    "\n",
    "pairs = [('fruit', 'apple'), ('fruit', 'banana'), ('veg', 'carrot')]\n",
    "grouped = defaultdict(list)\n",
    "for k, v in pairs:\n",
    "    grouped[k].append(v)\n",
    "\n",
    "print(dict(grouped))"
   ]
  },
  {
   "cell_type": "code",
   "execution_count": null,
   "id": "90b9a717",
   "metadata": {},
   "outputs": [],
   "source": []
  }
 ],
 "metadata": {
  "kernelspec": {
   "display_name": "env",
   "language": "python",
   "name": "python3"
  },
  "language_info": {
   "codemirror_mode": {
    "name": "ipython",
    "version": 3
   },
   "file_extension": ".py",
   "mimetype": "text/x-python",
   "name": "python",
   "nbconvert_exporter": "python",
   "pygments_lexer": "ipython3",
   "version": "3.13.5"
  }
 },
 "nbformat": 4,
 "nbformat_minor": 5
}
