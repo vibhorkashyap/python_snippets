{
 "cells": [
  {
   "cell_type": "markdown",
   "id": "0b932911",
   "metadata": {},
   "source": [
    "### Check if two strings are isomorphic"
   ]
  },
  {
   "cell_type": "code",
   "execution_count": null,
   "id": "8583319a",
   "metadata": {},
   "outputs": [],
   "source": [
    "def are_isomorphic(s1, s2):\n",
    "    if len(s1) != len(s2):\n",
    "        return False\n",
    "    mapping_s1, mapping_s2 = {}, {}\n",
    "    for c1, c2 in zip(s1, s2):\n",
    "        if mapping_s1.get(c1, c2) != c2 or mapping_s2.get(c2, c1) != c1:\n",
    "            return False\n",
    "        mapping_s1[c1] = c2\n",
    "        mapping_s2[c2] = c1\n",
    "    return True\n",
    "\n",
    "print(are_isomorphic('egg', 'add'))  # True\n",
    "print(are_isomorphic('foo', 'bar'))  # False"
   ]
  },
  {
   "cell_type": "markdown",
   "id": "5f2b3de6",
   "metadata": {},
   "source": [
    "### Rotate a list to the right by K steps"
   ]
  },
  {
   "cell_type": "code",
   "execution_count": null,
   "id": "737f5e2e",
   "metadata": {},
   "outputs": [],
   "source": [
    "def rotate_right(lst, k):\n",
    "    k %= len(lst)\n",
    "    return lst[-k:] + lst[:-k]\n",
    "\n",
    "print(rotate_right([1, 2, 3, 4, 5], 2))  # [4, 5, 1, 2, 3]"
   ]
  },
  {
   "cell_type": "markdown",
   "id": "5b6e7ee0",
   "metadata": {},
   "source": [
    "### Custom iterator: ReverseIterator"
   ]
  },
  {
   "cell_type": "code",
   "execution_count": null,
   "id": "54c8453c",
   "metadata": {},
   "outputs": [],
   "source": [
    "class ReverseIterator:\n",
    "    def __init__(self, data):\n",
    "        self.data = data\n",
    "        self.index = len(data)\n",
    "\n",
    "    def __iter__(self):\n",
    "        return self\n",
    "\n",
    "    def __next__(self):\n",
    "        if self.index == 0:\n",
    "            raise StopIteration\n",
    "        self.index -= 1\n",
    "        return self.data[self.index]\n",
    "\n",
    "for val in ReverseIterator([1, 2, 3]):\n",
    "    print(val)"
   ]
  },
  {
   "cell_type": "markdown",
   "id": "369f96b9",
   "metadata": {},
   "source": [
    "### Serialize and deserialize a nested dict"
   ]
  },
  {
   "cell_type": "code",
   "execution_count": null,
   "id": "c759bc98",
   "metadata": {},
   "outputs": [],
   "source": [
    "def flatten(d, parent_key='', sep='.'):\n",
    "    items = {}\n",
    "    for k, v in d.items():\n",
    "        new_key = f\"{parent_key}{sep}{k}\" if parent_key else k\n",
    "        if isinstance(v, dict):\n",
    "            items.update(flatten(v, new_key, sep=sep))\n",
    "        else:\n",
    "            items[new_key] = v\n",
    "    return items\n",
    "\n",
    "def unflatten(d, sep='.'):\n",
    "    result = {}\n",
    "    for key, value in d.items():\n",
    "        parts = key.split(sep)\n",
    "        target = result\n",
    "        for part in parts[:-1]:\n",
    "            target = target.setdefault(part, {})\n",
    "        target[parts[-1]] = value\n",
    "    return result\n",
    "\n",
    "nested = {'a': {'b': 1, 'c': {'d': 2}}}\n",
    "flat = flatten(nested)\n",
    "print(flat)\n",
    "print(unflatten(flat))"
   ]
  },
  {
   "cell_type": "markdown",
   "id": "4ea851a3",
   "metadata": {},
   "source": [
    "### Memoization using a custom decorator"
   ]
  },
  {
   "cell_type": "code",
   "execution_count": null,
   "id": "58948752",
   "metadata": {},
   "outputs": [],
   "source": [
    "def memoize(func):\n",
    "    cache = {}\n",
    "    def wrapper(n):\n",
    "        if n not in cache:\n",
    "            cache[n] = func(n)\n",
    "        return cache[n]\n",
    "    return wrapper\n",
    "\n",
    "@memoize\n",
    "def fib(n):\n",
    "    if n < 2:\n",
    "        return n\n",
    "    return fib(n-1) + fib(n-2)\n",
    "\n",
    "print(fib(10))  # 55"
   ]
  },
  {
   "cell_type": "markdown",
   "id": "bb1f15b9",
   "metadata": {},
   "source": [
    "### Count unique words in a text file"
   ]
  },
  {
   "cell_type": "code",
   "execution_count": null,
   "id": "8d522955",
   "metadata": {},
   "outputs": [],
   "source": [
    "from collections import Counter\n",
    "import re\n",
    "\n",
    "text = \"Hello world. Hello again, world!\"\n",
    "words = re.findall(r'\\b\\w+\\b', text.lower())\n",
    "word_counts = Counter(words)\n",
    "print(word_counts)"
   ]
  },
  {
   "cell_type": "markdown",
   "id": "d2465de0",
   "metadata": {},
   "source": [
    "### First non-repeating character"
   ]
  },
  {
   "cell_type": "code",
   "execution_count": null,
   "id": "df4143cc",
   "metadata": {},
   "outputs": [],
   "source": [
    "from collections import Counter\n",
    "\n",
    "def first_unique(s):\n",
    "    counts = Counter(s)\n",
    "    for c in s:\n",
    "        if counts[c] == 1:\n",
    "            return c\n",
    "    return None\n",
    "\n",
    "print(first_unique(\"swiss\"))  # 'w'"
   ]
  },
  {
   "cell_type": "markdown",
   "id": "e22e7bdd",
   "metadata": {},
   "source": [
    "### LRU Cache using OrderedDict"
   ]
  },
  {
   "cell_type": "code",
   "execution_count": null,
   "id": "f57ec366",
   "metadata": {},
   "outputs": [],
   "source": [
    "from collections import OrderedDict\n",
    "\n",
    "class LRUCache:\n",
    "    def __init__(self, capacity):\n",
    "        self.cache = OrderedDict()\n",
    "        self.capacity = capacity\n",
    "\n",
    "    def get(self, key):\n",
    "        if key not in self.cache:\n",
    "            return -1\n",
    "        self.cache.move_to_end(key)\n",
    "        return self.cache[key]\n",
    "\n",
    "    def put(self, key, value):\n",
    "        if key in self.cache:\n",
    "            self.cache.move_to_end(key)\n",
    "        self.cache[key] = value\n",
    "        if len(self.cache) > self.capacity:\n",
    "            self.cache.popitem(last=False)\n",
    "\n",
    "cache = LRUCache(2)\n",
    "cache.put(1, 1)\n",
    "cache.put(2, 2)\n",
    "print(cache.get(1))  # 1\n",
    "cache.put(3, 3)      # evicts key 2\n",
    "print(cache.get(2))  # -1"
   ]
  },
  {
   "cell_type": "markdown",
   "id": "cba80c3b",
   "metadata": {},
   "source": [
    "### Chunk a list into fixed-size sublists"
   ]
  },
  {
   "cell_type": "code",
   "execution_count": null,
   "id": "15b13fb4",
   "metadata": {},
   "outputs": [],
   "source": [
    "def chunk_list(lst, size):\n",
    "    return [lst[i:i + size] for i in range(0, len(lst), size)]\n",
    "\n",
    "print(chunk_list([1,2,3,4,5,6,7], 3))"
   ]
  },
  {
   "cell_type": "markdown",
   "id": "ebfe745a",
   "metadata": {},
   "source": [
    "### Intersection of two dicts with summed values"
   ]
  },
  {
   "cell_type": "code",
   "execution_count": null,
   "id": "0687be09",
   "metadata": {},
   "outputs": [],
   "source": [
    "a = {'x': 1, 'y': 2, 'z': 3}\n",
    "b = {'y': 3, 'z': 4, 'w': 5}\n",
    "\n",
    "intersect_sum = {k: a[k] + b[k] for k in a.keys() & b.keys()}\n",
    "print(intersect_sum)"
   ]
  },
  {
   "cell_type": "markdown",
   "id": "8c5ce3b3",
   "metadata": {},
   "source": [
    "### Basic trie for word insert/search"
   ]
  },
  {
   "cell_type": "code",
   "execution_count": null,
   "id": "66cd976d",
   "metadata": {},
   "outputs": [],
   "source": [
    "class TrieNode:\n",
    "    def __init__(self):\n",
    "        self.children = {}\n",
    "        self.end = False\n",
    "\n",
    "class Trie:\n",
    "    def __init__(self):\n",
    "        self.root = TrieNode()\n",
    "\n",
    "    def insert(self, word):\n",
    "        node = self.root\n",
    "        for ch in word:\n",
    "            node = node.children.setdefault(ch, TrieNode())\n",
    "        node.end = True\n",
    "\n",
    "    def search(self, word):\n",
    "        node = self.root\n",
    "        for ch in word:\n",
    "            node = node.children.get(ch)\n",
    "            if node is None:\n",
    "                return False\n",
    "        return node.end\n",
    "\n",
    "t = Trie()\n",
    "t.insert(\"hello\")\n",
    "print(t.search(\"hello\"))  # True\n",
    "print(t.search(\"hell\"))   # False"
   ]
  },
  {
   "cell_type": "markdown",
   "id": "dc7b8396",
   "metadata": {},
   "source": [
    "### Validate parentheses using stack"
   ]
  },
  {
   "cell_type": "code",
   "execution_count": null,
   "id": "240679e7",
   "metadata": {},
   "outputs": [],
   "source": [
    "def is_valid(expr):\n",
    "    stack = []\n",
    "    pairs = {')': '(', '}': '{', ']': '['}\n",
    "    for ch in expr:\n",
    "        if ch in '({[':\n",
    "            stack.append(ch)\n",
    "        elif ch in ')}]':\n",
    "            if not stack or stack[-1] != pairs[ch]:\n",
    "                return False\n",
    "            stack.pop()\n",
    "    return not stack\n",
    "\n",
    "print(is_valid(\"({[]})\"))  # True\n",
    "print(is_valid(\"({[})\"))   # False"
   ]
  },
  {
   "cell_type": "markdown",
   "id": "3f16f9ff",
   "metadata": {},
   "source": [
    "### Simple calculator using eval safely"
   ]
  },
  {
   "cell_type": "code",
   "execution_count": null,
   "id": "a972f38a",
   "metadata": {},
   "outputs": [],
   "source": [
    "def safe_eval(expr):\n",
    "    allowed = '0123456789+-*/(). '\n",
    "    if any(c not in allowed for c in expr):\n",
    "        raise ValueError(\"Invalid character in expression\")\n",
    "    return eval(expr)\n",
    "\n",
    "print(safe_eval(\"2 + 3 * (4 - 1)\"))  # 11"
   ]
  },
  {
   "cell_type": "markdown",
   "id": "0f9298b9",
   "metadata": {},
   "source": [
    "### Use heapq to maintain running median"
   ]
  },
  {
   "cell_type": "code",
   "execution_count": null,
   "id": "50dd51eb",
   "metadata": {},
   "outputs": [],
   "source": [
    "import heapq\n",
    "\n",
    "class RunningMedian:\n",
    "    def __init__(self):\n",
    "        self.low = []  # Max-heap\n",
    "        self.high = [] # Min-heap\n",
    "\n",
    "    def add(self, num):\n",
    "        heapq.heappush(self.low, -heapq.heappushpop(self.high, num))\n",
    "        if len(self.low) > len(self.high):\n",
    "            heapq.heappush(self.high, -heapq.heappop(self.low))\n",
    "\n",
    "    def median(self):\n",
    "        if len(self.high) == len(self.low):\n",
    "            return (-self.low[0] + self.high[0]) / 2\n",
    "        return float(self.high[0])\n",
    "\n",
    "rm = RunningMedian()\n",
    "for n in [2, 1, 5, 7, 2, 0, 5]:\n",
    "    rm.add(n)\n",
    "    print(\"Median:\", rm.median())"
   ]
  },
  {
   "cell_type": "markdown",
   "id": "2b09bece",
   "metadata": {},
   "source": [
    "### Generate all permutations of a list"
   ]
  },
  {
   "cell_type": "code",
   "execution_count": null,
   "id": "5af35b33",
   "metadata": {},
   "outputs": [],
   "source": [
    "from itertools import permutations\n",
    "\n",
    "items = [1, 2, 3]\n",
    "for p in permutations(items):\n",
    "    print(p)"
   ]
  },
  {
   "cell_type": "markdown",
   "id": "d5cefa40",
   "metadata": {},
   "source": [
    "### Simple DSL parser with regex"
   ]
  },
  {
   "cell_type": "code",
   "execution_count": null,
   "id": "dee2a2dc",
   "metadata": {},
   "outputs": [],
   "source": [
    "import re\n",
    "\n",
    "def parse_command(cmd):\n",
    "    match = re.match(r'(ADD|SUB) (\\d+) (\\d+)', cmd)\n",
    "    if match:\n",
    "        op, a, b = match.groups()\n",
    "        a, b = int(a), int(b)\n",
    "        return a + b if op == 'ADD' else a - b\n",
    "    return None\n",
    "\n",
    "print(parse_command(\"ADD 5 3\"))  # 8\n",
    "print(parse_command(\"SUB 10 4\")) # 6"
   ]
  },
  {
   "cell_type": "markdown",
   "id": "a715229e",
   "metadata": {},
   "source": [
    "### Use reduce to compute factorial"
   ]
  },
  {
   "cell_type": "code",
   "execution_count": null,
   "id": "06cc792a",
   "metadata": {},
   "outputs": [],
   "source": [
    "from functools import reduce\n",
    "\n",
    "def factorial(n):\n",
    "    return reduce(lambda x, y: x * y, range(1, n+1), 1)\n",
    "\n",
    "print(factorial(5))  # 120"
   ]
  },
  {
   "cell_type": "markdown",
   "id": "1b588bf7",
   "metadata": {},
   "source": [
    "### Simulate a simple FSM (traffic light)"
   ]
  },
  {
   "cell_type": "code",
   "execution_count": null,
   "id": "80d96260",
   "metadata": {},
   "outputs": [],
   "source": [
    "class TrafficLight:\n",
    "    def __init__(self):\n",
    "        self.state = 'red'\n",
    "\n",
    "    def next(self):\n",
    "        transitions = {'red': 'green', 'green': 'yellow', 'yellow': 'red'}\n",
    "        self.state = transitions[self.state]\n",
    "        return self.state\n",
    "\n",
    "t = TrafficLight()\n",
    "for _ in range(6):\n",
    "    print(t.next())"
   ]
  },
  {
   "cell_type": "markdown",
   "id": "cdf196b3",
   "metadata": {},
   "source": [
    "### Use itertools.groupby to summarize sorted data"
   ]
  },
  {
   "cell_type": "code",
   "execution_count": null,
   "id": "b649d36b",
   "metadata": {},
   "outputs": [],
   "source": [
    "from itertools import groupby\n",
    "\n",
    "data = [('fruit', 'apple'), ('fruit', 'banana'), ('veg', 'carrot'), ('veg', 'beet')]\n",
    "\n",
    "for key, group in groupby(sorted(data), key=lambda x: x[0]):\n",
    "    print(key, [item[1] for item in group])"
   ]
  }
 ],
 "metadata": {},
 "nbformat": 4,
 "nbformat_minor": 5
}
