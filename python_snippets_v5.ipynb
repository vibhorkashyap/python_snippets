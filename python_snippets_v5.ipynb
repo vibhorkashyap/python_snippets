{
 "cells": [
  {
   "cell_type": "markdown",
   "id": "b1c2f802",
   "metadata": {},
   "source": [
    "### Simulate a basic LRU Cache using OrderedDict"
   ]
  },
  {
   "cell_type": "code",
   "execution_count": null,
   "id": "354a7815",
   "metadata": {},
   "outputs": [],
   "source": [
    "from collections import OrderedDict\n",
    "\n",
    "class LRUCache:\n",
    "    def __init__(self, capacity: int):\n",
    "        self.cache = OrderedDict()\n",
    "        self.capacity = capacity\n",
    "\n",
    "    def get(self, key):\n",
    "        if key not in self.cache:\n",
    "            return -1\n",
    "        self.cache.move_to_end(key)\n",
    "        return self.cache[key]\n",
    "\n",
    "    def put(self, key, value):\n",
    "        if key in self.cache:\n",
    "            self.cache.move_to_end(key)\n",
    "        self.cache[key] = value\n",
    "        if len(self.cache) > self.capacity:\n",
    "            self.cache.popitem(last=False)\n",
    "\n",
    "lru = LRUCache(2)\n",
    "lru.put(1, 1)\n",
    "lru.put(2, 2)\n",
    "print(lru.get(1))  # 1\n",
    "lru.put(3, 3)\n",
    "print(lru.get(2))  # -1 (evicted)"
   ]
  },
  {
   "cell_type": "markdown",
   "id": "7ca7b31f",
   "metadata": {},
   "source": [
    "### Find pairs in a list that sum to a target"
   ]
  },
  {
   "cell_type": "code",
   "execution_count": null,
   "id": "1602cb6c",
   "metadata": {},
   "outputs": [],
   "source": [
    "def two_sum(nums, target):\n",
    "    seen = {}\n",
    "    pairs = []\n",
    "    for i, num in enumerate(nums):\n",
    "        complement = target - num\n",
    "        if complement in seen:\n",
    "            pairs.append((complement, num))\n",
    "        seen[num] = i\n",
    "    return pairs\n",
    "\n",
    "print(two_sum([2, 7, 11, 15], 9))  # [(2, 7)]"
   ]
  },
  {
   "cell_type": "markdown",
   "id": "fec1a92b",
   "metadata": {},
   "source": [
    "### Calculate factorial using memoization"
   ]
  },
  {
   "cell_type": "code",
   "execution_count": null,
   "id": "42b9b837",
   "metadata": {},
   "outputs": [],
   "source": [
    "def factorial(n, memo={}):\n",
    "    if n in memo:\n",
    "        return memo[n]\n",
    "    if n <= 1:\n",
    "        return 1\n",
    "    memo[n] = n * factorial(n-1, memo)\n",
    "    return memo[n]\n",
    "\n",
    "print(factorial(5))  # 120"
   ]
  },
  {
   "cell_type": "markdown",
   "id": "aca35b9d",
   "metadata": {},
   "source": [
    "### Parse a log file to count error levels"
   ]
  },
  {
   "cell_type": "code",
   "execution_count": null,
   "id": "0dbabc28",
   "metadata": {},
   "outputs": [],
   "source": [
    "log_data = '''\n",
    "[INFO] Started process\n",
    "[ERROR] Failed to start service\n",
    "[WARNING] Low memory\n",
    "[ERROR] Connection lost\n",
    "[INFO] Retrying\n",
    "'''\n",
    "\n",
    "from collections import Counter\n",
    "levels = [line.split(']')[0][1:] for line in log_data.strip().split('\\n')]\n",
    "print(Counter(levels))"
   ]
  },
  {
   "cell_type": "markdown",
   "id": "90611cfb",
   "metadata": {},
   "source": [
    "### Rotate a matrix 90 degrees clockwise"
   ]
  },
  {
   "cell_type": "code",
   "execution_count": null,
   "id": "1acf2fe3",
   "metadata": {},
   "outputs": [],
   "source": [
    "def rotate_matrix(matrix):\n",
    "    return [list(row) for row in zip(*matrix[::-1])]\n",
    "\n",
    "mat = [\n",
    "    [1, 2, 3],\n",
    "    [4, 5, 6],\n",
    "    [7, 8, 9]\n",
    "]\n",
    "rotated = rotate_matrix(mat)\n",
    "for row in rotated:\n",
    "    print(row)"
   ]
  },
  {
   "cell_type": "markdown",
   "id": "00399d9e",
   "metadata": {},
   "source": [
    "### Find longest substring without repeating characters"
   ]
  },
  {
   "cell_type": "code",
   "execution_count": null,
   "id": "73825516",
   "metadata": {},
   "outputs": [],
   "source": [
    "def longest_unique_substring(s):\n",
    "    seen = {}\n",
    "    start = max_len = 0\n",
    "    for i, ch in enumerate(s):\n",
    "        if ch in seen and seen[ch] >= start:\n",
    "            start = seen[ch] + 1\n",
    "        seen[ch] = i\n",
    "        max_len = max(max_len, i - start + 1)\n",
    "    return max_len\n",
    "\n",
    "print(longest_unique_substring(\"abcabcbb\"))  # 3"
   ]
  },
  {
   "cell_type": "markdown",
   "id": "35866402",
   "metadata": {},
   "source": [
    "### Validate balanced parentheses using stack"
   ]
  },
  {
   "cell_type": "code",
   "execution_count": null,
   "id": "93567afa",
   "metadata": {},
   "outputs": [],
   "source": [
    "def is_balanced(s):\n",
    "    stack = []\n",
    "    mapping = {')':'(', ']':'[', '}':'{'}\n",
    "    for char in s:\n",
    "        if char in mapping.values():\n",
    "            stack.append(char)\n",
    "        elif char in mapping:\n",
    "            if not stack or stack[-1] != mapping[char]:\n",
    "                return False\n",
    "            stack.pop()\n",
    "    return not stack\n",
    "\n",
    "print(is_balanced(\"({[]})\"))  # True"
   ]
  },
  {
   "cell_type": "markdown",
   "id": "6ea9585f",
   "metadata": {},
   "source": [
    "### Check if two strings are isomorphic"
   ]
  },
  {
   "cell_type": "code",
   "execution_count": null,
   "id": "26dc9af6",
   "metadata": {},
   "outputs": [],
   "source": [
    "def is_isomorphic(s, t):\n",
    "    return len(set(zip(s, t))) == len(set(s)) == len(set(t))\n",
    "\n",
    "print(is_isomorphic(\"egg\", \"add\"))  # True\n",
    "print(is_isomorphic(\"foo\", \"bar\"))  # False"
   ]
  },
  {
   "cell_type": "markdown",
   "id": "e7a4a3e9",
   "metadata": {},
   "source": [
    "### Count elements greater than all elements to their right"
   ]
  },
  {
   "cell_type": "code",
   "execution_count": null,
   "id": "d951a5c9",
   "metadata": {},
   "outputs": [],
   "source": [
    "def count_greater_right(nums):\n",
    "    result = []\n",
    "    max_right = float('-inf')\n",
    "    for num in reversed(nums):\n",
    "        if num > max_right:\n",
    "            result.append(num)\n",
    "            max_right = num\n",
    "    return result[::-1]\n",
    "\n",
    "print(count_greater_right([16, 17, 4, 3, 5, 2]))  # [17, 5, 2]"
   ]
  },
  {
   "cell_type": "markdown",
   "id": "0614a0f8",
   "metadata": {},
   "source": [
    "### Implement custom sorting based on string length"
   ]
  },
  {
   "cell_type": "code",
   "execution_count": null,
   "id": "018409ee",
   "metadata": {},
   "outputs": [],
   "source": [
    "words = [\"banana\", \"pie\", \"Washington\", \"book\"]\n",
    "sorted_words = sorted(words, key=lambda x: (len(x), x))\n",
    "print(sorted_words)"
   ]
  }
 ],
 "metadata": {},
 "nbformat": 4,
 "nbformat_minor": 5
}
