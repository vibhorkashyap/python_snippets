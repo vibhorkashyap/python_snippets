{
 "cells": [
  {
   "cell_type": "markdown",
   "id": "5ac36a1f",
   "metadata": {},
   "source": [
    "### Use asyncio to run coroutines concurrently"
   ]
  },
  {
   "cell_type": "code",
   "execution_count": 1,
   "id": "4804c0c5",
   "metadata": {},
   "outputs": [
    {
     "ename": "RuntimeError",
     "evalue": "asyncio.run() cannot be called from a running event loop",
     "output_type": "error",
     "traceback": [
      "\u001b[31m---------------------------------------------------------------------------\u001b[39m",
      "\u001b[31mRuntimeError\u001b[39m                              Traceback (most recent call last)",
      "\u001b[36mCell\u001b[39m\u001b[36m \u001b[39m\u001b[32mIn[1]\u001b[39m\u001b[32m, line 10\u001b[39m\n\u001b[32m      7\u001b[39m \u001b[38;5;28;01masync\u001b[39;00m \u001b[38;5;28;01mdef\u001b[39;00m\u001b[38;5;250m \u001b[39m\u001b[34mmain\u001b[39m():\n\u001b[32m      8\u001b[39m     \u001b[38;5;28;01mawait\u001b[39;00m asyncio.gather(task(\u001b[33m\"\u001b[39m\u001b[33mA\u001b[39m\u001b[33m\"\u001b[39m, \u001b[32m2\u001b[39m), task(\u001b[33m\"\u001b[39m\u001b[33mB\u001b[39m\u001b[33m\"\u001b[39m, \u001b[32m1\u001b[39m))\n\u001b[32m---> \u001b[39m\u001b[32m10\u001b[39m \u001b[43masyncio\u001b[49m\u001b[43m.\u001b[49m\u001b[43mrun\u001b[49m\u001b[43m(\u001b[49m\u001b[43mmain\u001b[49m\u001b[43m(\u001b[49m\u001b[43m)\u001b[49m\u001b[43m)\u001b[49m\n",
      "\u001b[36mFile \u001b[39m\u001b[32mC:\\Program Files\\WindowsApps\\PythonSoftwareFoundation.Python.3.13_3.13.1520.0_x64__qbz5n2kfra8p0\\Lib\\asyncio\\runners.py:191\u001b[39m, in \u001b[36mrun\u001b[39m\u001b[34m(main, debug, loop_factory)\u001b[39m\n\u001b[32m    161\u001b[39m \u001b[38;5;250m\u001b[39m\u001b[33;03m\"\"\"Execute the coroutine and return the result.\u001b[39;00m\n\u001b[32m    162\u001b[39m \n\u001b[32m    163\u001b[39m \u001b[33;03mThis function runs the passed coroutine, taking care of\u001b[39;00m\n\u001b[32m   (...)\u001b[39m\u001b[32m    187\u001b[39m \u001b[33;03m    asyncio.run(main())\u001b[39;00m\n\u001b[32m    188\u001b[39m \u001b[33;03m\"\"\"\u001b[39;00m\n\u001b[32m    189\u001b[39m \u001b[38;5;28;01mif\u001b[39;00m events._get_running_loop() \u001b[38;5;129;01mis\u001b[39;00m \u001b[38;5;129;01mnot\u001b[39;00m \u001b[38;5;28;01mNone\u001b[39;00m:\n\u001b[32m    190\u001b[39m     \u001b[38;5;66;03m# fail fast with short traceback\u001b[39;00m\n\u001b[32m--> \u001b[39m\u001b[32m191\u001b[39m     \u001b[38;5;28;01mraise\u001b[39;00m \u001b[38;5;167;01mRuntimeError\u001b[39;00m(\n\u001b[32m    192\u001b[39m         \u001b[33m\"\u001b[39m\u001b[33masyncio.run() cannot be called from a running event loop\u001b[39m\u001b[33m\"\u001b[39m)\n\u001b[32m    194\u001b[39m \u001b[38;5;28;01mwith\u001b[39;00m Runner(debug=debug, loop_factory=loop_factory) \u001b[38;5;28;01mas\u001b[39;00m runner:\n\u001b[32m    195\u001b[39m     \u001b[38;5;28;01mreturn\u001b[39;00m runner.run(main)\n",
      "\u001b[31mRuntimeError\u001b[39m: asyncio.run() cannot be called from a running event loop"
     ]
    }
   ],
   "source": [
    "import asyncio\n",
    "\n",
    "async def task(name, delay):\n",
    "    await asyncio.sleep(delay)\n",
    "    print(f\"Task {name} finished after {delay} seconds\")\n",
    "\n",
    "async def main():\n",
    "    await asyncio.gather(task(\"A\", 2), task(\"B\", 1))\n",
    "\n",
    "asyncio.run(main())"
   ]
  },
  {
   "cell_type": "markdown",
   "id": "b9d6f4a1",
   "metadata": {},
   "source": [
    "### Create and use a Python metaclass"
   ]
  },
  {
   "cell_type": "code",
   "execution_count": 2,
   "id": "1f213e3f",
   "metadata": {},
   "outputs": [
    {
     "name": "stdout",
     "output_type": "stream",
     "text": [
      "Creating class MyClass\n",
      "method called\n"
     ]
    }
   ],
   "source": [
    "class MetaLogger(type):\n",
    "    def __new__(cls, name, bases, dct):\n",
    "        print(f\"Creating class {name}\")\n",
    "        return super().__new__(cls, name, bases, dct)\n",
    "\n",
    "class MyClass(metaclass=MetaLogger):\n",
    "    def method(self):\n",
    "        return \"method called\"\n",
    "\n",
    "obj = MyClass()\n",
    "print(obj.method())"
   ]
  },
  {
   "cell_type": "markdown",
   "id": "fad834c5",
   "metadata": {},
   "source": [
    "### Implement a context manager using class"
   ]
  },
  {
   "cell_type": "code",
   "execution_count": 3,
   "id": "eef293c6",
   "metadata": {},
   "outputs": [],
   "source": [
    "class FileOpener:\n",
    "    def __init__(self, filename):\n",
    "        self.filename = filename\n",
    "\n",
    "    def __enter__(self):\n",
    "        self.file = open(self.filename, 'w')\n",
    "        return self.file\n",
    "\n",
    "    def __exit__(self, exc_type, exc_value, traceback):\n",
    "        self.file.close()\n",
    "\n",
    "with FileOpener('sample.txt') as f:\n",
    "    f.write('Hello World!')"
   ]
  },
  {
   "cell_type": "markdown",
   "id": "f0f650aa",
   "metadata": {},
   "source": [
    "### Use contextlib to simplify a context manager"
   ]
  },
  {
   "cell_type": "code",
   "execution_count": 4,
   "id": "8b8e271f",
   "metadata": {},
   "outputs": [],
   "source": [
    "from contextlib import contextmanager\n",
    "\n",
    "@contextmanager\n",
    "def open_file(name):\n",
    "    f = open(name, 'w')\n",
    "    try:\n",
    "        yield f\n",
    "    finally:\n",
    "        f.close()\n",
    "\n",
    "with open_file('sample2.txt') as f:\n",
    "    f.write(\"Using contextlib\")"
   ]
  },
  {
   "cell_type": "markdown",
   "id": "a7d02186",
   "metadata": {},
   "source": [
    "### Create a class with property decorators"
   ]
  },
  {
   "cell_type": "code",
   "execution_count": 5,
   "id": "fa1d1377",
   "metadata": {},
   "outputs": [
    {
     "name": "stdout",
     "output_type": "stream",
     "text": [
      "37\n"
     ]
    }
   ],
   "source": [
    "class Celsius:\n",
    "    def __init__(self, temperature=0):\n",
    "        self._temperature = temperature\n",
    "\n",
    "    @property\n",
    "    def temperature(self):\n",
    "        return self._temperature\n",
    "\n",
    "    @temperature.setter\n",
    "    def temperature(self, value):\n",
    "        if value < -273.15:\n",
    "            raise ValueError(\"Too cold!\")\n",
    "        self._temperature = value\n",
    "\n",
    "c = Celsius()\n",
    "c.temperature = 37\n",
    "print(c.temperature)"
   ]
  },
  {
   "cell_type": "markdown",
   "id": "be26b1eb",
   "metadata": {},
   "source": [
    "### Use dataclass to simplify boilerplate code"
   ]
  },
  {
   "cell_type": "code",
   "execution_count": 6,
   "id": "ab5517c6",
   "metadata": {},
   "outputs": [
    {
     "name": "stdout",
     "output_type": "stream",
     "text": [
      "Point(x=1, y=2)\n"
     ]
    }
   ],
   "source": [
    "from dataclasses import dataclass\n",
    "\n",
    "@dataclass\n",
    "class Point:\n",
    "    x: int\n",
    "    y: int\n",
    "\n",
    "p = Point(1, 2)\n",
    "print(p)"
   ]
  },
  {
   "cell_type": "markdown",
   "id": "3c7cf4a5",
   "metadata": {},
   "source": [
    "### Use functools.lru_cache to memoize function calls"
   ]
  },
  {
   "cell_type": "code",
   "execution_count": 7,
   "id": "3fdc6297",
   "metadata": {},
   "outputs": [
    {
     "name": "stdout",
     "output_type": "stream",
     "text": [
      "832040\n"
     ]
    }
   ],
   "source": [
    "from functools import lru_cache\n",
    "\n",
    "@lru_cache(maxsize=None)\n",
    "def fib(n):\n",
    "    if n < 2:\n",
    "        return n\n",
    "    return fib(n-1) + fib(n-2)\n",
    "\n",
    "print(fib(30))"
   ]
  },
  {
   "cell_type": "markdown",
   "id": "c2779fd7",
   "metadata": {},
   "source": [
    "### Create a custom exception hierarchy"
   ]
  },
  {
   "cell_type": "code",
   "execution_count": 8,
   "id": "3dfa94d4",
   "metadata": {},
   "outputs": [
    {
     "name": "stdout",
     "output_type": "stream",
     "text": [
      "Caught custom error: Invalid input\n"
     ]
    }
   ],
   "source": [
    "class AppError(Exception): pass\n",
    "class ValidationError(AppError): pass\n",
    "class DatabaseError(AppError): pass\n",
    "\n",
    "try:\n",
    "    raise ValidationError(\"Invalid input\")\n",
    "except AppError as e:\n",
    "    print(f\"Caught custom error: {e}\")"
   ]
  },
  {
   "cell_type": "markdown",
   "id": "2384048f",
   "metadata": {},
   "source": [
    "### Use __slots__ to optimize memory usage in classes"
   ]
  },
  {
   "cell_type": "code",
   "execution_count": 9,
   "id": "808fe134",
   "metadata": {},
   "outputs": [
    {
     "name": "stdout",
     "output_type": "stream",
     "text": [
      "1 2\n"
     ]
    }
   ],
   "source": [
    "class Slim:\n",
    "    __slots__ = ['a', 'b']\n",
    "    def __init__(self, a, b):\n",
    "        self.a = a\n",
    "        self.b = b\n",
    "\n",
    "s = Slim(1, 2)\n",
    "print(s.a, s.b)"
   ]
  },
  {
   "cell_type": "markdown",
   "id": "e612934f",
   "metadata": {},
   "source": [
    "### Use generators to handle infinite sequences"
   ]
  },
  {
   "cell_type": "code",
   "execution_count": 10,
   "id": "b4a36438",
   "metadata": {},
   "outputs": [
    {
     "name": "stdout",
     "output_type": "stream",
     "text": [
      "0\n",
      "1\n",
      "4\n",
      "9\n",
      "16\n"
     ]
    }
   ],
   "source": [
    "def infinite_squares():\n",
    "    i = 0\n",
    "    while True:\n",
    "        yield i * i\n",
    "        i += 1\n",
    "\n",
    "gen = infinite_squares()\n",
    "for _ in range(5):\n",
    "    print(next(gen))"
   ]
  },
  {
   "cell_type": "markdown",
   "id": "202acd21",
   "metadata": {},
   "source": [
    "### Inspect objects using inspect module"
   ]
  },
  {
   "cell_type": "code",
   "execution_count": 11,
   "id": "23f896c9",
   "metadata": {},
   "outputs": [
    {
     "name": "stdout",
     "output_type": "stream",
     "text": [
      "(a, b=2)\n"
     ]
    }
   ],
   "source": [
    "import inspect\n",
    "\n",
    "def foo(a, b=2):\n",
    "    return a + b\n",
    "\n",
    "print(inspect.signature(foo))"
   ]
  },
  {
   "cell_type": "markdown",
   "id": "f62fca9e",
   "metadata": {},
   "source": [
    "### Serialize and deserialize objects with pickle"
   ]
  },
  {
   "cell_type": "code",
   "execution_count": 12,
   "id": "34c6cb1a",
   "metadata": {},
   "outputs": [
    {
     "name": "stdout",
     "output_type": "stream",
     "text": [
      "{'a': 1, 'b': 2}\n"
     ]
    }
   ],
   "source": [
    "import pickle\n",
    "\n",
    "data = {'a': 1, 'b': 2}\n",
    "dump = pickle.dumps(data)\n",
    "loaded = pickle.loads(dump)\n",
    "print(loaded)"
   ]
  },
  {
   "cell_type": "markdown",
   "id": "bd1f104b",
   "metadata": {},
   "source": [
    "### Use Enum to define symbolic constants"
   ]
  },
  {
   "cell_type": "code",
   "execution_count": 14,
   "id": "d16a30db",
   "metadata": {},
   "outputs": [
    {
     "name": "stdout",
     "output_type": "stream",
     "text": [
      "Status.SUCCESS 1\n"
     ]
    }
   ],
   "source": [
    "from enum import Enum\n",
    "\n",
    "class Status(Enum):\n",
    "    SUCCESS = 1\n",
    "    FAILURE = 0\n",
    "\n",
    "print(Status.SUCCESS, Status.SUCCESS.value)"
   ]
  },
  {
   "cell_type": "markdown",
   "id": "2a4a2d46",
   "metadata": {},
   "source": [
    "### Chain operations using itertools"
   ]
  },
  {
   "cell_type": "code",
   "execution_count": 15,
   "id": "0bdebfb2",
   "metadata": {},
   "outputs": [
    {
     "name": "stdout",
     "output_type": "stream",
     "text": [
      "[1, 2, 3, 4]\n"
     ]
    }
   ],
   "source": [
    "from itertools import chain\n",
    "\n",
    "a = [1, 2]\n",
    "b = [3, 4]\n",
    "print(list(chain(a, b)))"
   ]
  },
  {
   "cell_type": "markdown",
   "id": "187944e7",
   "metadata": {},
   "source": [
    "### Time code execution with timeit"
   ]
  },
  {
   "cell_type": "code",
   "execution_count": 16,
   "id": "110e40a9",
   "metadata": {},
   "outputs": [
    {
     "name": "stdout",
     "output_type": "stream",
     "text": [
      "0.0005050000036135316\n"
     ]
    }
   ],
   "source": [
    "import timeit\n",
    "\n",
    "print(timeit.timeit('sum(range(100))', number=1000))"
   ]
  },
  {
   "cell_type": "markdown",
   "id": "e52f0eb7",
   "metadata": {},
   "source": [
    "### Use operator module for functional-style expressions"
   ]
  },
  {
   "cell_type": "code",
   "execution_count": 17,
   "id": "e8c0c6b3",
   "metadata": {},
   "outputs": [
    {
     "name": "stdout",
     "output_type": "stream",
     "text": [
      "[5, 7, 9]\n"
     ]
    }
   ],
   "source": [
    "import operator\n",
    "\n",
    "a = [1, 2, 3]\n",
    "b = [4, 5, 6]\n",
    "print(list(map(operator.add, a, b)))"
   ]
  },
  {
   "cell_type": "markdown",
   "id": "dda7c494",
   "metadata": {},
   "source": [
    "### Unpack values with * and **"
   ]
  },
  {
   "cell_type": "code",
   "execution_count": 18,
   "id": "84c01285",
   "metadata": {},
   "outputs": [
    {
     "name": "stdout",
     "output_type": "stream",
     "text": [
      "1 2 3\n",
      "10 20 30\n"
     ]
    }
   ],
   "source": [
    "def func(a, b, c):\n",
    "    print(a, b, c)\n",
    "\n",
    "args = [1, 2, 3]\n",
    "func(*args)\n",
    "\n",
    "kwargs = {'a': 10, 'b': 20, 'c': 30}\n",
    "func(**kwargs)"
   ]
  },
  {
   "cell_type": "markdown",
   "id": "e6b8d61b",
   "metadata": {},
   "source": [
    "### Use zip and unpacking to transpose a matrix"
   ]
  },
  {
   "cell_type": "code",
   "execution_count": 19,
   "id": "d29ae36f",
   "metadata": {},
   "outputs": [
    {
     "name": "stdout",
     "output_type": "stream",
     "text": [
      "[(1, 4), (2, 5), (3, 6)]\n"
     ]
    }
   ],
   "source": [
    "matrix = [\n",
    "    [1, 2, 3],\n",
    "    [4, 5, 6]\n",
    "]\n",
    "\n",
    "transposed = list(zip(*matrix))\n",
    "print(transposed)"
   ]
  },
  {
   "cell_type": "markdown",
   "id": "228ce900",
   "metadata": {},
   "source": [
    "### Build a decorator with arguments"
   ]
  },
  {
   "cell_type": "code",
   "execution_count": 20,
   "id": "ccc8e5bd",
   "metadata": {},
   "outputs": [
    {
     "name": "stdout",
     "output_type": "stream",
     "text": [
      "Hello, Alice!\n",
      "Hello, Alice!\n",
      "Hello, Alice!\n"
     ]
    }
   ],
   "source": [
    "from functools import wraps\n",
    "\n",
    "def repeat(n):\n",
    "    def decorator(func):\n",
    "        @wraps(func)\n",
    "        def wrapper(*args, **kwargs):\n",
    "            for _ in range(n):\n",
    "                result = func(*args, **kwargs)\n",
    "            return result\n",
    "        return wrapper\n",
    "    return decorator\n",
    "\n",
    "@repeat(3)\n",
    "def greet(name):\n",
    "    print(f\"Hello, {name}!\")\n",
    "\n",
    "greet(\"Alice\")"
   ]
  },
  {
   "cell_type": "markdown",
   "id": "6363cd2d",
   "metadata": {},
   "source": [
    "### Create a descriptor for controlled attribute access"
   ]
  },
  {
   "cell_type": "code",
   "execution_count": 21,
   "id": "3a901f2a",
   "metadata": {},
   "outputs": [
    {
     "name": "stdout",
     "output_type": "stream",
     "text": [
      "10\n"
     ]
    }
   ],
   "source": [
    "class Positive:\n",
    "    def __get__(self, instance, owner):\n",
    "        return instance._value\n",
    "\n",
    "    def __set__(self, instance, value):\n",
    "        if value < 0:\n",
    "            raise ValueError(\"Value must be positive\")\n",
    "        instance._value = value\n",
    "\n",
    "class MyClass:\n",
    "    value = Positive()\n",
    "\n",
    "obj = MyClass()\n",
    "obj.value = 10\n",
    "print(obj.value)\n",
    "# obj.value = -5  # Uncomment to raise ValueError"
   ]
  },
  {
   "cell_type": "code",
   "execution_count": null,
   "id": "25cbb79c",
   "metadata": {},
   "outputs": [],
   "source": []
  },
  {
   "cell_type": "code",
   "execution_count": null,
   "id": "2e9285c1",
   "metadata": {},
   "outputs": [],
   "source": []
  }
 ],
 "metadata": {
  "kernelspec": {
   "display_name": "env",
   "language": "python",
   "name": "python3"
  },
  "language_info": {
   "codemirror_mode": {
    "name": "ipython",
    "version": 3
   },
   "file_extension": ".py",
   "mimetype": "text/x-python",
   "name": "python",
   "nbconvert_exporter": "python",
   "pygments_lexer": "ipython3",
   "version": "3.13.5"
  }
 },
 "nbformat": 4,
 "nbformat_minor": 5
}
