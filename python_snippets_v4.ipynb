{
 "cells": [
  {
   "cell_type": "markdown",
   "id": "311faa39",
   "metadata": {},
   "source": [
    "### Define a base class and inherit in child class"
   ]
  },
  {
   "cell_type": "code",
   "execution_count": null,
   "id": "0f7d1e8f",
   "metadata": {},
   "outputs": [],
   "source": [
    "class Animal:\n",
    "    def speak(self):\n",
    "        return \"Some sound\"\n",
    "\n",
    "class Dog(Animal):\n",
    "    def speak(self):\n",
    "        return \"Bark\"\n",
    "\n",
    "d = Dog()\n",
    "print(d.speak())"
   ]
  },
  {
   "cell_type": "markdown",
   "id": "c9726500",
   "metadata": {},
   "source": [
    "### Override __str__ and __repr__ methods"
   ]
  },
  {
   "cell_type": "code",
   "execution_count": null,
   "id": "bbc7fb24",
   "metadata": {},
   "outputs": [],
   "source": [
    "class Book:\n",
    "    def __init__(self, title, author):\n",
    "        self.title = title\n",
    "        self.author = author\n",
    "\n",
    "    def __str__(self):\n",
    "        return f\"{self.title} by {self.author}\"\n",
    "\n",
    "    def __repr__(self):\n",
    "        return f\"Book({self.title!r}, {self.author!r})\"\n",
    "\n",
    "b = Book(\"1984\", \"Orwell\")\n",
    "print(str(b))\n",
    "print(repr(b))"
   ]
  },
  {
   "cell_type": "markdown",
   "id": "0333380a",
   "metadata": {},
   "source": [
    "### Multiple inheritance and method resolution order"
   ]
  },
  {
   "cell_type": "code",
   "execution_count": null,
   "id": "7dd9f2f6",
   "metadata": {},
   "outputs": [],
   "source": [
    "class A:\n",
    "    def do(self):\n",
    "        print(\"A\")\n",
    "\n",
    "class B(A):\n",
    "    def do(self):\n",
    "        print(\"B\")\n",
    "\n",
    "class C(A):\n",
    "    def do(self):\n",
    "        print(\"C\")\n",
    "\n",
    "class D(B, C):\n",
    "    pass\n",
    "\n",
    "d = D()\n",
    "d.do()\n",
    "print(D.mro())"
   ]
  },
  {
   "cell_type": "markdown",
   "id": "f6a2c679",
   "metadata": {},
   "source": [
    "### Use threading to run parallel tasks"
   ]
  },
  {
   "cell_type": "code",
   "execution_count": null,
   "id": "705d3e1e",
   "metadata": {},
   "outputs": [],
   "source": [
    "import threading\n",
    "\n",
    "def print_msg(msg):\n",
    "    print(f\"Message: {msg}\")\n",
    "\n",
    "t1 = threading.Thread(target=print_msg, args=(\"Hello\",))\n",
    "t2 = threading.Thread(target=print_msg, args=(\"World\",))\n",
    "t1.start()\n",
    "t2.start()\n",
    "t1.join()\n",
    "t2.join()"
   ]
  },
  {
   "cell_type": "markdown",
   "id": "d569d614",
   "metadata": {},
   "source": [
    "### Use queue with threading to share data"
   ]
  },
  {
   "cell_type": "code",
   "execution_count": null,
   "id": "ff2fa182",
   "metadata": {},
   "outputs": [],
   "source": [
    "import threading\n",
    "import queue\n",
    "\n",
    "q = queue.Queue()\n",
    "\n",
    "def worker():\n",
    "    while not q.empty():\n",
    "        item = q.get()\n",
    "        print(f\"Processed: {item}\")\n",
    "        q.task_done()\n",
    "\n",
    "for item in range(5):\n",
    "    q.put(item)\n",
    "\n",
    "threads = [threading.Thread(target=worker) for _ in range(2)]\n",
    "for t in threads:\n",
    "    t.start()\n",
    "for t in threads:\n",
    "    t.join()"
   ]
  },
  {
   "cell_type": "markdown",
   "id": "d871bf76",
   "metadata": {},
   "source": [
    "### Implement a basic stack using list"
   ]
  },
  {
   "cell_type": "code",
   "execution_count": null,
   "id": "dc21132c",
   "metadata": {},
   "outputs": [],
   "source": [
    "class Stack:\n",
    "    def __init__(self):\n",
    "        self.items = []\n",
    "\n",
    "    def push(self, item):\n",
    "        self.items.append(item)\n",
    "\n",
    "    def pop(self):\n",
    "        return self.items.pop()\n",
    "\n",
    "s = Stack()\n",
    "s.push(1)\n",
    "s.push(2)\n",
    "print(s.pop())  # 2"
   ]
  },
  {
   "cell_type": "markdown",
   "id": "02e812bb",
   "metadata": {},
   "source": [
    "### Implement a queue using deque"
   ]
  },
  {
   "cell_type": "code",
   "execution_count": null,
   "id": "208c1132",
   "metadata": {},
   "outputs": [],
   "source": [
    "from collections import deque\n",
    "\n",
    "class Queue:\n",
    "    def __init__(self):\n",
    "        self.items = deque()\n",
    "\n",
    "    def enqueue(self, item):\n",
    "        self.items.append(item)\n",
    "\n",
    "    def dequeue(self):\n",
    "        return self.items.popleft()\n",
    "\n",
    "q = Queue()\n",
    "q.enqueue(10)\n",
    "q.enqueue(20)\n",
    "print(q.dequeue())  # 10"
   ]
  },
  {
   "cell_type": "markdown",
   "id": "8ff05d26",
   "metadata": {},
   "source": [
    "### Binary search implementation"
   ]
  },
  {
   "cell_type": "code",
   "execution_count": null,
   "id": "c9cd5288",
   "metadata": {},
   "outputs": [],
   "source": [
    "def binary_search(arr, target):\n",
    "    left, right = 0, len(arr) - 1\n",
    "    while left <= right:\n",
    "        mid = (left + right) // 2\n",
    "        if arr[mid] == target:\n",
    "            return mid\n",
    "        elif arr[mid] < target:\n",
    "            left = mid + 1\n",
    "        else:\n",
    "            right = mid - 1\n",
    "    return -1\n",
    "\n",
    "print(binary_search([1, 3, 5, 7, 9], 5))  # 2"
   ]
  },
  {
   "cell_type": "markdown",
   "id": "57d95839",
   "metadata": {},
   "source": [
    "### Implement a simple linked list"
   ]
  },
  {
   "cell_type": "code",
   "execution_count": null,
   "id": "0185e7b5",
   "metadata": {},
   "outputs": [],
   "source": [
    "class Node:\n",
    "    def __init__(self, data):\n",
    "        self.data = data\n",
    "        self.next = None\n",
    "\n",
    "class LinkedList:\n",
    "    def __init__(self):\n",
    "        self.head = None\n",
    "\n",
    "    def insert(self, data):\n",
    "        node = Node(data)\n",
    "        node.next = self.head\n",
    "        self.head = node\n",
    "\n",
    "    def display(self):\n",
    "        curr = self.head\n",
    "        while curr:\n",
    "            print(curr.data, end=' -> ')\n",
    "            curr = curr.next\n",
    "        print(\"None\")\n",
    "\n",
    "ll = LinkedList()\n",
    "ll.insert(10)\n",
    "ll.insert(20)\n",
    "ll.display()"
   ]
  },
  {
   "cell_type": "markdown",
   "id": "2eacd578",
   "metadata": {},
   "source": [
    "### Detect loop in linked list (Floyd’s algorithm)"
   ]
  },
  {
   "cell_type": "code",
   "execution_count": null,
   "id": "10c77f66",
   "metadata": {},
   "outputs": [],
   "source": [
    "def has_cycle(head):\n",
    "    slow = fast = head\n",
    "    while fast and fast.next:\n",
    "        slow = slow.next\n",
    "        fast = fast.next.next\n",
    "        if slow == fast:\n",
    "            return True\n",
    "    return False"
   ]
  },
  {
   "cell_type": "markdown",
   "id": "5516878c",
   "metadata": {},
   "source": [
    "### Use heapq for priority queue"
   ]
  },
  {
   "cell_type": "code",
   "execution_count": null,
   "id": "a32987a3",
   "metadata": {},
   "outputs": [],
   "source": [
    "import heapq\n",
    "\n",
    "items = [5, 1, 3, 7]\n",
    "heapq.heapify(items)\n",
    "heapq.heappush(items, 2)\n",
    "print([heapq.heappop(items) for _ in range(len(items))])"
   ]
  },
  {
   "cell_type": "markdown",
   "id": "dc23bc7f",
   "metadata": {},
   "source": [
    "### Maintain sorted order using bisect"
   ]
  },
  {
   "cell_type": "code",
   "execution_count": null,
   "id": "f1e9cdb4",
   "metadata": {},
   "outputs": [],
   "source": [
    "import bisect\n",
    "\n",
    "lst = [1, 3, 5, 7]\n",
    "bisect.insort(lst, 4)\n",
    "print(lst)  # [1, 3, 4, 5, 7]"
   ]
  },
  {
   "cell_type": "markdown",
   "id": "078df480",
   "metadata": {},
   "source": [
    "### Reverse a string recursively"
   ]
  },
  {
   "cell_type": "code",
   "execution_count": null,
   "id": "d815236e",
   "metadata": {},
   "outputs": [],
   "source": [
    "def reverse(s):\n",
    "    if len(s) == 0:\n",
    "        return s\n",
    "    return reverse(s[1:]) + s[0]\n",
    "\n",
    "print(reverse(\"hello\"))"
   ]
  },
  {
   "cell_type": "markdown",
   "id": "c4b7a12e",
   "metadata": {},
   "source": [
    "### Recursive sum of nested list"
   ]
  },
  {
   "cell_type": "code",
   "execution_count": null,
   "id": "2b05159d",
   "metadata": {},
   "outputs": [],
   "source": [
    "def recursive_sum(lst):\n",
    "    total = 0\n",
    "    for item in lst:\n",
    "        if isinstance(item, list):\n",
    "            total += recursive_sum(item)\n",
    "        else:\n",
    "            total += item\n",
    "    return total\n",
    "\n",
    "print(recursive_sum([1, [2, [3, 4]], 5]))  # 15"
   ]
  },
  {
   "cell_type": "markdown",
   "id": "775c8463",
   "metadata": {},
   "source": [
    "### Create read-only property"
   ]
  },
  {
   "cell_type": "code",
   "execution_count": null,
   "id": "ae4e2948",
   "metadata": {},
   "outputs": [],
   "source": [
    "class MyClass:\n",
    "    def __init__(self):\n",
    "        self._value = 42\n",
    "\n",
    "    @property\n",
    "    def value(self):\n",
    "        return self._value\n",
    "\n",
    "obj = MyClass()\n",
    "print(obj.value)"
   ]
  },
  {
   "cell_type": "markdown",
   "id": "1c32d20b",
   "metadata": {},
   "source": [
    "### Simulate switch-case using dictionary"
   ]
  },
  {
   "cell_type": "code",
   "execution_count": null,
   "id": "91c72551",
   "metadata": {},
   "outputs": [],
   "source": [
    "def handle_case(case):\n",
    "    switch = {\n",
    "        'a': lambda: \"You chose A\",\n",
    "        'b': lambda: \"You chose B\"\n",
    "    }\n",
    "    return switch.get(case, lambda: \"Default case\")()\n",
    "\n",
    "print(handle_case('a'))"
   ]
  },
  {
   "cell_type": "markdown",
   "id": "794d4938",
   "metadata": {},
   "source": [
    "### Frozen dataclass (immutable object)"
   ]
  },
  {
   "cell_type": "code",
   "execution_count": null,
   "id": "05228f8b",
   "metadata": {},
   "outputs": [],
   "source": [
    "from dataclasses import dataclass\n",
    "\n",
    "@dataclass(frozen=True)\n",
    "class Config:\n",
    "    host: str\n",
    "    port: int\n",
    "\n",
    "cfg = Config('localhost', 8080)\n",
    "print(cfg)"
   ]
  },
  {
   "cell_type": "markdown",
   "id": "73d5932b",
   "metadata": {},
   "source": [
    "### Use weakref to avoid memory leaks"
   ]
  },
  {
   "cell_type": "code",
   "execution_count": null,
   "id": "355980ec",
   "metadata": {},
   "outputs": [],
   "source": [
    "import weakref\n",
    "\n",
    "class Data:\n",
    "    def __del__(self):\n",
    "        print(\"Deleted\")\n",
    "\n",
    "obj = Data()\n",
    "ref = weakref.ref(obj)\n",
    "print(ref())  # Should be object\n",
    "del obj\n",
    "print(ref())  # Should be None"
   ]
  },
  {
   "cell_type": "markdown",
   "id": "a240fb7d",
   "metadata": {},
   "source": [
    "### Make a class callable with __call__"
   ]
  },
  {
   "cell_type": "code",
   "execution_count": null,
   "id": "7af2cdf5",
   "metadata": {},
   "outputs": [],
   "source": [
    "class Adder:\n",
    "    def __init__(self, x):\n",
    "        self.x = x\n",
    "\n",
    "    def __call__(self, y):\n",
    "        return self.x + y\n",
    "\n",
    "add5 = Adder(5)\n",
    "print(add5(10))  # 15"
   ]
  },
  {
   "cell_type": "markdown",
   "id": "58aa5dbe",
   "metadata": {},
   "source": [
    "### Enable set and dict key use with __eq__ and __hash__"
   ]
  },
  {
   "cell_type": "code",
   "execution_count": null,
   "id": "daef7604",
   "metadata": {},
   "outputs": [],
   "source": [
    "class Point:\n",
    "    def __init__(self, x, y):\n",
    "        self.x = x\n",
    "        self.y = y\n",
    "\n",
    "    def __eq__(self, other):\n",
    "        return (self.x, self.y) == (other.x, other.y)\n",
    "\n",
    "    def __hash__(self):\n",
    "        return hash((self.x, self.y))\n",
    "\n",
    "p1 = Point(1, 2)\n",
    "p2 = Point(1, 2)\n",
    "print(p1 == p2)  # True\n",
    "print(set([p1, p2]))  # Only one unique point"
   ]
  }
 ],
 "metadata": {},
 "nbformat": 4,
 "nbformat_minor": 5
}
